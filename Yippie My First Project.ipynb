{
    "cells": [
        {
            "cell_type": "code",
            "execution_count": 1,
            "metadata": {},
            "outputs": [
                {
                    "name": "stdout",
                    "output_type": "stream",
                    "text": "Hello This Is ME\n"
                }
            ],
            "source": "print(\"Hello This Is ME\")"
        },
        {
            "cell_type": "code",
            "execution_count": 3,
            "metadata": {},
            "outputs": [
                {
                    "data": {
                        "text/html": "<div>\n<style scoped>\n    .dataframe tbody tr th:only-of-type {\n        vertical-align: middle;\n    }\n\n    .dataframe tbody tr th {\n        vertical-align: top;\n    }\n\n    .dataframe thead th {\n        text-align: right;\n    }\n</style>\n<table border=\"1\" class=\"dataframe\">\n  <thead>\n    <tr style=\"text-align: right;\">\n      <th></th>\n      <th>name</th>\n      <th>selling_price</th>\n      <th>year</th>\n      <th>seller_type</th>\n      <th>owner</th>\n      <th>km_driven</th>\n      <th>ex_showroom_price</th>\n    </tr>\n  </thead>\n  <tbody>\n    <tr>\n      <th>0</th>\n      <td>Royal Enfield Classic 350</td>\n      <td>175000</td>\n      <td>2019</td>\n      <td>Individual</td>\n      <td>1st owner</td>\n      <td>350</td>\n      <td>NaN</td>\n    </tr>\n    <tr>\n      <th>1</th>\n      <td>Honda Dio</td>\n      <td>45000</td>\n      <td>2017</td>\n      <td>Individual</td>\n      <td>1st owner</td>\n      <td>5650</td>\n      <td>NaN</td>\n    </tr>\n    <tr>\n      <th>2</th>\n      <td>Royal Enfield Classic Gunmetal Grey</td>\n      <td>150000</td>\n      <td>2018</td>\n      <td>Individual</td>\n      <td>1st owner</td>\n      <td>12000</td>\n      <td>148114.0</td>\n    </tr>\n    <tr>\n      <th>3</th>\n      <td>Yamaha Fazer FI V 2.0 [2016-2018]</td>\n      <td>65000</td>\n      <td>2015</td>\n      <td>Individual</td>\n      <td>1st owner</td>\n      <td>23000</td>\n      <td>89643.0</td>\n    </tr>\n    <tr>\n      <th>4</th>\n      <td>Yamaha SZ [2013-2014]</td>\n      <td>20000</td>\n      <td>2011</td>\n      <td>Individual</td>\n      <td>2nd owner</td>\n      <td>21000</td>\n      <td>NaN</td>\n    </tr>\n  </tbody>\n</table>\n</div>",
                        "text/plain": "                                  name  selling_price  year seller_type  \\\n0            Royal Enfield Classic 350         175000  2019  Individual   \n1                            Honda Dio          45000  2017  Individual   \n2  Royal Enfield Classic Gunmetal Grey         150000  2018  Individual   \n3    Yamaha Fazer FI V 2.0 [2016-2018]          65000  2015  Individual   \n4                Yamaha SZ [2013-2014]          20000  2011  Individual   \n\n       owner  km_driven  ex_showroom_price  \n0  1st owner        350                NaN  \n1  1st owner       5650                NaN  \n2  1st owner      12000           148114.0  \n3  1st owner      23000            89643.0  \n4  2nd owner      21000                NaN  "
                    },
                    "execution_count": 3,
                    "metadata": {},
                    "output_type": "execute_result"
                }
            ],
            "source": "# The code was removed by Watson Studio for sharing."
        },
        {
            "cell_type": "code",
            "execution_count": null,
            "metadata": {},
            "outputs": [],
            "source": ""
        }
    ],
    "metadata": {
        "kernelspec": {
            "display_name": "Python 3.10",
            "language": "python",
            "name": "python3"
        },
        "language_info": {
            "codemirror_mode": {
                "name": "ipython",
                "version": 3
            },
            "file_extension": ".py",
            "mimetype": "text/x-python",
            "name": "python",
            "nbconvert_exporter": "python",
            "pygments_lexer": "ipython3",
            "version": "3.10.6"
        }
    },
    "nbformat": 4,
    "nbformat_minor": 1
}